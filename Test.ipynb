{
 "cells": [
  {
   "cell_type": "code",
   "execution_count": 3,
   "metadata": {},
   "outputs": [
    {
     "ename": "ModuleNotFoundError",
     "evalue": "No module named 'expense_tracker'",
     "output_type": "error",
     "traceback": [
      "\u001b[1;31m---------------------------------------------------------------------------\u001b[0m",
      "\u001b[1;31mModuleNotFoundError\u001b[0m                       Traceback (most recent call last)",
      "Cell \u001b[1;32mIn[3], line 5\u001b[0m\n\u001b[0;32m      2\u001b[0m \u001b[38;5;28;01mimport\u001b[39;00m\u001b[38;5;250m \u001b[39m\u001b[38;5;21;01msys\u001b[39;00m\n\u001b[0;32m      4\u001b[0m \u001b[38;5;66;03m# Import the classes\u001b[39;00m\n\u001b[1;32m----> 5\u001b[0m \u001b[38;5;28;01mfrom\u001b[39;00m\u001b[38;5;250m \u001b[39m\u001b[38;5;21;01mexpense_tracker\u001b[39;00m\u001b[38;5;250m \u001b[39m\u001b[38;5;28;01mimport\u001b[39;00m Expense, ExpenseDatabase\n",
      "\u001b[1;31mModuleNotFoundError\u001b[0m: No module named 'expense_tracker'"
     ]
    }
   ],
   "source": [
    "# Add the project directory to the Python path\n",
    "import sys\n",
    "\n",
    "# Import the classes\n",
    "from expense_tracker import Expense, ExpenseDatabase"
   ]
  },
  {
   "cell_type": "code",
   "execution_count": 1,
   "metadata": {},
   "outputs": [
    {
     "ename": "NameError",
     "evalue": "name 'ExpenseDatabase' is not defined",
     "output_type": "error",
     "traceback": [
      "\u001b[1;31m---------------------------------------------------------------------------\u001b[0m",
      "\u001b[1;31mNameError\u001b[0m                                 Traceback (most recent call last)",
      "Cell \u001b[1;32mIn[1], line 4\u001b[0m\n\u001b[0;32m      1\u001b[0m \u001b[38;5;66;03m# Demonstration of functionality:\u001b[39;00m\n\u001b[0;32m      2\u001b[0m \u001b[38;5;28;01mif\u001b[39;00m \u001b[38;5;18m__name__\u001b[39m \u001b[38;5;241m==\u001b[39m \u001b[38;5;124m\"\u001b[39m\u001b[38;5;124m__main__\u001b[39m\u001b[38;5;124m\"\u001b[39m:\n\u001b[0;32m      3\u001b[0m     \u001b[38;5;66;03m# Create an instance of ExpenseDatabase\u001b[39;00m\n\u001b[1;32m----> 4\u001b[0m     db \u001b[38;5;241m=\u001b[39m \u001b[43mExpenseDatabase\u001b[49m()\n\u001b[0;32m      6\u001b[0m     \u001b[38;5;66;03m# Create several expenses\u001b[39;00m\n\u001b[0;32m      7\u001b[0m     expense1 \u001b[38;5;241m=\u001b[39m Expense(\u001b[38;5;124m\"\u001b[39m\u001b[38;5;124mLunch\u001b[39m\u001b[38;5;124m\"\u001b[39m, \u001b[38;5;241m12.50\u001b[39m)\n",
      "\u001b[1;31mNameError\u001b[0m: name 'ExpenseDatabase' is not defined"
     ]
    }
   ],
   "source": [
    "# Demonstration of functionality:\n",
    "if __name__ == \"__main__\":\n",
    "    # Create an instance of ExpenseDatabase\n",
    "    db = ExpenseDatabase()\n",
    "\n",
    "    # Create several expenses\n",
    "    expense1 = Expense(\"Lunch\", 12.50)\n",
    "    expense2 = Expense(\"Coffee\", 3.75)\n",
    "    expense3 = Expense(\"Lunch\", 15.00)\n",
    "\n",
    "    # Add expenses to the database with error handling\n",
    "    try:\n",
    "        db.add_expense(expense1)\n",
    "        db.add_expense(expense2)\n",
    "        db.add_expense(expense3)\n",
    "    except TypeError as e:\n",
    "        print(\"Error adding expense:\", e)\n",
    "\n",
    "    print(\"Initial expenses:\")\n",
    "    for expense in db.to_dict():\n",
    "        print(expense)\n",
    "\n",
    "    # Update expense1 and display\n",
    "    expense1.update(amount=13.00)\n",
    "    print(\"\\nAfter updating expense1:\")\n",
    "    print(expense1.to_dict())\n",
    "\n",
    "    # Retrieve expense by its ID (using expense2's id)\n",
    "    retrieved = db.get_expense_by_id(expense2.id)\n",
    "    print(\"\\nRetrieved expense by ID:\")\n",
    "    if retrieved:\n",
    "        print(retrieved.to_dict())\n",
    "    else:\n",
    "        print(\"Expense not found.\")\n",
    "\n",
    "    # Retrieve expenses by title \"Lunch\" with error handling\n",
    "    try:\n",
    "        lunches = db.get_expense_by_title(\"Lunch\")\n",
    "        print(\"\\nExpenses with title 'Lunch':\")\n",
    "        for expense in lunches:\n",
    "            print(expense.to_dict())\n",
    "    except ValueError as ve:\n",
    "        print(\"Error retrieving expenses by title:\", ve)\n",
    "\n",
    "    # Remove expense2 from the database and check removal status\n",
    "    removed = db.remove_expense(expense2.id)\n",
    "    if removed:\n",
    "        print(\"\\nExpense removed successfully.\")\n",
    "    else:\n",
    "        print(\"\\nNo expense found with the given ID to remove.\")\n",
    "\n",
    "    print(\"\\nAfter removing expense2:\")\n",
    "    for expense in db.to_dict():\n",
    "        print(expense)"
   ]
  }
 ],
 "metadata": {
  "kernelspec": {
   "display_name": "Python 3",
   "language": "python",
   "name": "python3"
  },
  "language_info": {
   "codemirror_mode": {
    "name": "ipython",
    "version": 3
   },
   "file_extension": ".py",
   "mimetype": "text/x-python",
   "name": "python",
   "nbconvert_exporter": "python",
   "pygments_lexer": "ipython3",
   "version": "3.12.9"
  }
 },
 "nbformat": 4,
 "nbformat_minor": 2
}
