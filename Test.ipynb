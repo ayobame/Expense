{
 "cells": [
  {
   "cell_type": "code",
   "execution_count": 8,
   "metadata": {},
   "outputs": [],
   "source": [
    "# Add the project directory to the Python path\n",
    "import sys\n",
    "import test\n",
    "# Import the classes\n",
    "from expense import Expense, ExpenseDatabase\n"
   ]
  },
  {
   "cell_type": "code",
   "execution_count": 10,
   "metadata": {},
   "outputs": [
    {
     "name": "stdout",
     "output_type": "stream",
     "text": [
      "Initial expenses:\n",
      "{'id': 'c4eb631b-f359-4c19-9446-dae424c5bc41', 'title': 'Lunch', 'amount': 12.5, 'created_at': '2025-02-24T00:04:15.948991Z', 'updated_at': '2025-02-24T00:04:15.948991Z'}\n",
      "{'id': '2101161a-f9f9-4fbf-9d88-af76dbb78238', 'title': 'Coffee', 'amount': 3.75, 'created_at': '2025-02-24T00:04:15.948991Z', 'updated_at': '2025-02-24T00:04:15.948991Z'}\n",
      "{'id': '5c900204-b522-4051-b414-39638a73d2a0', 'title': 'Lunch', 'amount': 15.0, 'created_at': '2025-02-24T00:04:15.948991Z', 'updated_at': '2025-02-24T00:04:15.948991Z'}\n"
     ]
    }
   ],
   "source": [
    "# Demonstration of functionality\n",
    "# Create an instance of ExpenseDatabase\n",
    "db = ExpenseDatabase()\n",
    "\n",
    "# Create several expenses\n",
    "expense1 = Expense(\"Lunch\", 12.50)\n",
    "expense2 = Expense(\"Coffee\", 3.75)\n",
    "expense3 = Expense(\"Lunch\", 15.00)\n",
    "\n",
    "# Add expenses to the database with error handling\n",
    "try:\n",
    "    db.add_expense(expense1)\n",
    "    db.add_expense(expense2)\n",
    "    db.add_expense(expense3)\n",
    "except TypeError as e:\n",
    "    print(\"Error adding expense:\", e)\n",
    "\n",
    "print(\"Initial expenses:\")\n",
    "for expense in db.to_dict():\n",
    "    print(expense)\n",
    "\n"
   ]
  },
  {
   "cell_type": "code",
   "execution_count": 11,
   "metadata": {},
   "outputs": [
    {
     "name": "stdout",
     "output_type": "stream",
     "text": [
      "\n",
      "After updating expense1:\n",
      "{'id': 'c4eb631b-f359-4c19-9446-dae424c5bc41', 'title': 'Lunch', 'amount': 13.0, 'created_at': '2025-02-24T00:04:15.948991Z', 'updated_at': '2025-02-24T00:04:20.822454Z'}\n"
     ]
    }
   ],
   "source": [
    "# Update expense1 and display\n",
    "expense1.update(amount=13.00)\n",
    "print(\"\\nAfter updating expense1:\")\n",
    "print(expense1.to_dict())\n"
   ]
  },
  {
   "cell_type": "code",
   "execution_count": 12,
   "metadata": {},
   "outputs": [
    {
     "name": "stdout",
     "output_type": "stream",
     "text": [
      "\n",
      "Retrieved expense by ID:\n",
      "{'id': '2101161a-f9f9-4fbf-9d88-af76dbb78238', 'title': 'Coffee', 'amount': 3.75, 'created_at': '2025-02-24T00:04:15.948991Z', 'updated_at': '2025-02-24T00:04:15.948991Z'}\n"
     ]
    }
   ],
   "source": [
    "# Retrieve expense by its ID (using expense2's id)\n",
    "retrieved = db.get_expense_by_id(expense2.id)\n",
    "print(\"\\nRetrieved expense by ID:\")\n",
    "if retrieved:\n",
    "    print(retrieved.to_dict())\n",
    "else:\n",
    "    print(\"Expense not found.\")\n",
    "\n"
   ]
  },
  {
   "cell_type": "code",
   "execution_count": 13,
   "metadata": {},
   "outputs": [
    {
     "name": "stdout",
     "output_type": "stream",
     "text": [
      "\n",
      "Expenses with title 'Lunch':\n",
      "{'id': 'c4eb631b-f359-4c19-9446-dae424c5bc41', 'title': 'Lunch', 'amount': 13.0, 'created_at': '2025-02-24T00:04:15.948991Z', 'updated_at': '2025-02-24T00:04:20.822454Z'}\n",
      "{'id': '5c900204-b522-4051-b414-39638a73d2a0', 'title': 'Lunch', 'amount': 15.0, 'created_at': '2025-02-24T00:04:15.948991Z', 'updated_at': '2025-02-24T00:04:15.948991Z'}\n"
     ]
    }
   ],
   "source": [
    "# Retrieve expenses by title \"Lunch\" with error handling\n",
    "try:\n",
    "    lunches = db.get_expense_by_title(\"Lunch\")\n",
    "    print(\"\\nExpenses with title 'Lunch':\")\n",
    "    for expense in lunches:\n",
    "        print(expense.to_dict())\n",
    "except ValueError as ve:\n",
    "    print(\"Error retrieving expenses by title:\", ve)\n",
    "\n"
   ]
  },
  {
   "cell_type": "code",
   "execution_count": 14,
   "metadata": {},
   "outputs": [
    {
     "name": "stdout",
     "output_type": "stream",
     "text": [
      "\n",
      "Expense removed successfully.\n",
      "\n",
      "After removing expense2:\n",
      "{'id': 'c4eb631b-f359-4c19-9446-dae424c5bc41', 'title': 'Lunch', 'amount': 13.0, 'created_at': '2025-02-24T00:04:15.948991Z', 'updated_at': '2025-02-24T00:04:20.822454Z'}\n",
      "{'id': '5c900204-b522-4051-b414-39638a73d2a0', 'title': 'Lunch', 'amount': 15.0, 'created_at': '2025-02-24T00:04:15.948991Z', 'updated_at': '2025-02-24T00:04:15.948991Z'}\n"
     ]
    }
   ],
   "source": [
    "# Remove expense2 from the database and check removal status\n",
    "removed = db.remove_expense(expense2.id)\n",
    "if removed:\n",
    "    print(\"\\nExpense removed successfully.\")\n",
    "else:\n",
    "    print(\"\\nNo expense found with the given ID to remove.\")\n",
    "\n",
    "print(\"\\nAfter removing expense2:\")\n",
    "for expense in db.to_dict():\n",
    "    print(expense)"
   ]
  }
 ],
 "metadata": {
  "kernelspec": {
   "display_name": "Python 3",
   "language": "python",
   "name": "python3"
  },
  "language_info": {
   "codemirror_mode": {
    "name": "ipython",
    "version": 3
   },
   "file_extension": ".py",
   "mimetype": "text/x-python",
   "name": "python",
   "nbconvert_exporter": "python",
   "pygments_lexer": "ipython3",
   "version": "3.12.9"
  }
 },
 "nbformat": 4,
 "nbformat_minor": 2
}
